{
 "cells": [
  {
   "cell_type": "code",
   "execution_count": 1,
   "metadata": {},
   "outputs": [],
   "source": [
    "import pandas as pd\n",
    "import numpy as np\n",
    "\n",
    "from imblearn.over_sampling import SMOTE\n",
    "from sklearn.preprocessing import StandardScaler\n",
    "from sklearn.model_selection import train_test_split\n",
    "\n",
    "pd.set_option('display.max_columns', None)"
   ]
  },
  {
   "cell_type": "code",
   "execution_count": 2,
   "metadata": {},
   "outputs": [],
   "source": [
    "train = pd.read_csv('Train_Sample.csv')\n",
    "test=pd.read_csv('HR test.csv')\n"
   ]
  },
  {
   "cell_type": "code",
   "execution_count": 3,
   "metadata": {},
   "outputs": [
    {
     "data": {
      "text/html": [
       "<div>\n",
       "<style scoped>\n",
       "    .dataframe tbody tr th:only-of-type {\n",
       "        vertical-align: middle;\n",
       "    }\n",
       "\n",
       "    .dataframe tbody tr th {\n",
       "        vertical-align: top;\n",
       "    }\n",
       "\n",
       "    .dataframe thead th {\n",
       "        text-align: right;\n",
       "    }\n",
       "</style>\n",
       "<table border=\"1\" class=\"dataframe\">\n",
       "  <thead>\n",
       "    <tr style=\"text-align: right;\">\n",
       "      <th></th>\n",
       "      <th>employee_id</th>\n",
       "      <th>department</th>\n",
       "      <th>region</th>\n",
       "      <th>education</th>\n",
       "      <th>gender</th>\n",
       "      <th>recruitment_channel</th>\n",
       "      <th>no_of_trainings</th>\n",
       "      <th>age</th>\n",
       "      <th>previous_year_rating</th>\n",
       "      <th>length_of_service</th>\n",
       "      <th>KPIs_met &gt;80%</th>\n",
       "      <th>awards_won?</th>\n",
       "      <th>avg_training_score</th>\n",
       "      <th>is_promoted</th>\n",
       "    </tr>\n",
       "  </thead>\n",
       "  <tbody>\n",
       "    <tr>\n",
       "      <th>0</th>\n",
       "      <td>65438</td>\n",
       "      <td>Sales &amp; Marketing</td>\n",
       "      <td>region_7</td>\n",
       "      <td>Master's &amp; above</td>\n",
       "      <td>f</td>\n",
       "      <td>sourcing</td>\n",
       "      <td>1</td>\n",
       "      <td>35</td>\n",
       "      <td>5.0</td>\n",
       "      <td>8</td>\n",
       "      <td>1</td>\n",
       "      <td>0</td>\n",
       "      <td>49</td>\n",
       "      <td>0</td>\n",
       "    </tr>\n",
       "    <tr>\n",
       "      <th>1</th>\n",
       "      <td>65141</td>\n",
       "      <td>Operations</td>\n",
       "      <td>region_22</td>\n",
       "      <td>Bachelor's</td>\n",
       "      <td>m</td>\n",
       "      <td>other</td>\n",
       "      <td>1</td>\n",
       "      <td>30</td>\n",
       "      <td>5.0</td>\n",
       "      <td>4</td>\n",
       "      <td>0</td>\n",
       "      <td>0</td>\n",
       "      <td>60</td>\n",
       "      <td>0</td>\n",
       "    </tr>\n",
       "    <tr>\n",
       "      <th>2</th>\n",
       "      <td>7513</td>\n",
       "      <td>Sales &amp; Marketing</td>\n",
       "      <td>region_19</td>\n",
       "      <td>Bachelor's</td>\n",
       "      <td>m</td>\n",
       "      <td>sourcing</td>\n",
       "      <td>1</td>\n",
       "      <td>34</td>\n",
       "      <td>3.0</td>\n",
       "      <td>7</td>\n",
       "      <td>0</td>\n",
       "      <td>0</td>\n",
       "      <td>50</td>\n",
       "      <td>0</td>\n",
       "    </tr>\n",
       "    <tr>\n",
       "      <th>3</th>\n",
       "      <td>2542</td>\n",
       "      <td>Sales &amp; Marketing</td>\n",
       "      <td>region_23</td>\n",
       "      <td>Bachelor's</td>\n",
       "      <td>m</td>\n",
       "      <td>other</td>\n",
       "      <td>2</td>\n",
       "      <td>39</td>\n",
       "      <td>1.0</td>\n",
       "      <td>10</td>\n",
       "      <td>0</td>\n",
       "      <td>0</td>\n",
       "      <td>50</td>\n",
       "      <td>0</td>\n",
       "    </tr>\n",
       "    <tr>\n",
       "      <th>4</th>\n",
       "      <td>48945</td>\n",
       "      <td>Technology</td>\n",
       "      <td>region_26</td>\n",
       "      <td>Bachelor's</td>\n",
       "      <td>m</td>\n",
       "      <td>other</td>\n",
       "      <td>1</td>\n",
       "      <td>45</td>\n",
       "      <td>3.0</td>\n",
       "      <td>2</td>\n",
       "      <td>0</td>\n",
       "      <td>0</td>\n",
       "      <td>73</td>\n",
       "      <td>0</td>\n",
       "    </tr>\n",
       "  </tbody>\n",
       "</table>\n",
       "</div>"
      ],
      "text/plain": [
       "   employee_id         department     region         education gender  \\\n",
       "0        65438  Sales & Marketing   region_7  Master's & above      f   \n",
       "1        65141         Operations  region_22        Bachelor's      m   \n",
       "2         7513  Sales & Marketing  region_19        Bachelor's      m   \n",
       "3         2542  Sales & Marketing  region_23        Bachelor's      m   \n",
       "4        48945         Technology  region_26        Bachelor's      m   \n",
       "\n",
       "  recruitment_channel  no_of_trainings  age  previous_year_rating  \\\n",
       "0            sourcing                1   35                   5.0   \n",
       "1               other                1   30                   5.0   \n",
       "2            sourcing                1   34                   3.0   \n",
       "3               other                2   39                   1.0   \n",
       "4               other                1   45                   3.0   \n",
       "\n",
       "   length_of_service  KPIs_met >80%  awards_won?  avg_training_score  \\\n",
       "0                  8              1            0                  49   \n",
       "1                  4              0            0                  60   \n",
       "2                  7              0            0                  50   \n",
       "3                 10              0            0                  50   \n",
       "4                  2              0            0                  73   \n",
       "\n",
       "   is_promoted  \n",
       "0            0  \n",
       "1            0  \n",
       "2            0  \n",
       "3            0  \n",
       "4            0  "
      ]
     },
     "execution_count": 3,
     "metadata": {},
     "output_type": "execute_result"
    }
   ],
   "source": [
    "train.head()"
   ]
  },
  {
   "cell_type": "code",
   "execution_count": 4,
   "metadata": {
    "scrolled": true
   },
   "outputs": [
    {
     "data": {
      "text/html": [
       "<div>\n",
       "<style scoped>\n",
       "    .dataframe tbody tr th:only-of-type {\n",
       "        vertical-align: middle;\n",
       "    }\n",
       "\n",
       "    .dataframe tbody tr th {\n",
       "        vertical-align: top;\n",
       "    }\n",
       "\n",
       "    .dataframe thead th {\n",
       "        text-align: right;\n",
       "    }\n",
       "</style>\n",
       "<table border=\"1\" class=\"dataframe\">\n",
       "  <thead>\n",
       "    <tr style=\"text-align: right;\">\n",
       "      <th></th>\n",
       "      <th>employee_id</th>\n",
       "      <th>department</th>\n",
       "      <th>region</th>\n",
       "      <th>education</th>\n",
       "      <th>gender</th>\n",
       "      <th>recruitment_channel</th>\n",
       "      <th>no_of_trainings</th>\n",
       "      <th>age</th>\n",
       "      <th>previous_year_rating</th>\n",
       "      <th>length_of_service</th>\n",
       "      <th>KPIs_met &gt;80%</th>\n",
       "      <th>awards_won?</th>\n",
       "      <th>avg_training_score</th>\n",
       "    </tr>\n",
       "  </thead>\n",
       "  <tbody>\n",
       "    <tr>\n",
       "      <th>0</th>\n",
       "      <td>8724</td>\n",
       "      <td>Technology</td>\n",
       "      <td>region_26</td>\n",
       "      <td>Bachelor's</td>\n",
       "      <td>m</td>\n",
       "      <td>sourcing</td>\n",
       "      <td>1</td>\n",
       "      <td>24</td>\n",
       "      <td>NaN</td>\n",
       "      <td>1</td>\n",
       "      <td>1</td>\n",
       "      <td>0</td>\n",
       "      <td>77</td>\n",
       "    </tr>\n",
       "    <tr>\n",
       "      <th>1</th>\n",
       "      <td>74430</td>\n",
       "      <td>HR</td>\n",
       "      <td>region_4</td>\n",
       "      <td>Bachelor's</td>\n",
       "      <td>f</td>\n",
       "      <td>other</td>\n",
       "      <td>1</td>\n",
       "      <td>31</td>\n",
       "      <td>3.0</td>\n",
       "      <td>5</td>\n",
       "      <td>0</td>\n",
       "      <td>0</td>\n",
       "      <td>51</td>\n",
       "    </tr>\n",
       "    <tr>\n",
       "      <th>2</th>\n",
       "      <td>72255</td>\n",
       "      <td>Sales &amp; Marketing</td>\n",
       "      <td>region_13</td>\n",
       "      <td>Bachelor's</td>\n",
       "      <td>m</td>\n",
       "      <td>other</td>\n",
       "      <td>1</td>\n",
       "      <td>31</td>\n",
       "      <td>1.0</td>\n",
       "      <td>4</td>\n",
       "      <td>0</td>\n",
       "      <td>0</td>\n",
       "      <td>47</td>\n",
       "    </tr>\n",
       "    <tr>\n",
       "      <th>3</th>\n",
       "      <td>38562</td>\n",
       "      <td>Procurement</td>\n",
       "      <td>region_2</td>\n",
       "      <td>Bachelor's</td>\n",
       "      <td>f</td>\n",
       "      <td>other</td>\n",
       "      <td>3</td>\n",
       "      <td>31</td>\n",
       "      <td>2.0</td>\n",
       "      <td>9</td>\n",
       "      <td>0</td>\n",
       "      <td>0</td>\n",
       "      <td>65</td>\n",
       "    </tr>\n",
       "    <tr>\n",
       "      <th>4</th>\n",
       "      <td>64486</td>\n",
       "      <td>Finance</td>\n",
       "      <td>region_29</td>\n",
       "      <td>Bachelor's</td>\n",
       "      <td>m</td>\n",
       "      <td>sourcing</td>\n",
       "      <td>1</td>\n",
       "      <td>30</td>\n",
       "      <td>4.0</td>\n",
       "      <td>7</td>\n",
       "      <td>0</td>\n",
       "      <td>0</td>\n",
       "      <td>61</td>\n",
       "    </tr>\n",
       "  </tbody>\n",
       "</table>\n",
       "</div>"
      ],
      "text/plain": [
       "   employee_id         department     region   education gender  \\\n",
       "0         8724         Technology  region_26  Bachelor's      m   \n",
       "1        74430                 HR   region_4  Bachelor's      f   \n",
       "2        72255  Sales & Marketing  region_13  Bachelor's      m   \n",
       "3        38562        Procurement   region_2  Bachelor's      f   \n",
       "4        64486            Finance  region_29  Bachelor's      m   \n",
       "\n",
       "  recruitment_channel  no_of_trainings  age  previous_year_rating  \\\n",
       "0            sourcing                1   24                   NaN   \n",
       "1               other                1   31                   3.0   \n",
       "2               other                1   31                   1.0   \n",
       "3               other                3   31                   2.0   \n",
       "4            sourcing                1   30                   4.0   \n",
       "\n",
       "   length_of_service  KPIs_met >80%  awards_won?  avg_training_score  \n",
       "0                  1              1            0                  77  \n",
       "1                  5              0            0                  51  \n",
       "2                  4              0            0                  47  \n",
       "3                  9              0            0                  65  \n",
       "4                  7              0            0                  61  "
      ]
     },
     "execution_count": 4,
     "metadata": {},
     "output_type": "execute_result"
    }
   ],
   "source": [
    "test.head()"
   ]
  },
  {
   "cell_type": "code",
   "execution_count": 5,
   "metadata": {},
   "outputs": [
    {
     "data": {
      "text/plain": [
       "(54808, 14)"
      ]
     },
     "execution_count": 5,
     "metadata": {},
     "output_type": "execute_result"
    }
   ],
   "source": [
    "train.shape"
   ]
  },
  {
   "cell_type": "code",
   "execution_count": 6,
   "metadata": {},
   "outputs": [
    {
     "data": {
      "text/plain": [
       "(23490, 13)"
      ]
     },
     "execution_count": 6,
     "metadata": {},
     "output_type": "execute_result"
    }
   ],
   "source": [
    "test.shape"
   ]
  },
  {
   "cell_type": "code",
   "execution_count": 7,
   "metadata": {},
   "outputs": [
    {
     "data": {
      "text/plain": [
       "employee_id                0\n",
       "department                 0\n",
       "region                     0\n",
       "education               2409\n",
       "gender                     0\n",
       "recruitment_channel        0\n",
       "no_of_trainings            0\n",
       "age                        0\n",
       "previous_year_rating    4124\n",
       "length_of_service          0\n",
       "KPIs_met >80%              0\n",
       "awards_won?                0\n",
       "avg_training_score         0\n",
       "is_promoted                0\n",
       "dtype: int64"
      ]
     },
     "execution_count": 7,
     "metadata": {},
     "output_type": "execute_result"
    }
   ],
   "source": [
    "train.isnull().sum()"
   ]
  },
  {
   "cell_type": "code",
   "execution_count": 8,
   "metadata": {},
   "outputs": [
    {
     "data": {
      "text/plain": [
       "employee_id                0\n",
       "department                 0\n",
       "region                     0\n",
       "education               1034\n",
       "gender                     0\n",
       "recruitment_channel        0\n",
       "no_of_trainings            0\n",
       "age                        0\n",
       "previous_year_rating    1812\n",
       "length_of_service          0\n",
       "KPIs_met >80%              0\n",
       "awards_won?                0\n",
       "avg_training_score         0\n",
       "dtype: int64"
      ]
     },
     "execution_count": 8,
     "metadata": {},
     "output_type": "execute_result"
    }
   ],
   "source": [
    "test.isnull().sum()"
   ]
  },
  {
   "cell_type": "code",
   "execution_count": 9,
   "metadata": {},
   "outputs": [
    {
     "data": {
      "text/plain": [
       "employee_id             0.000000\n",
       "department              0.000000\n",
       "region                  0.000000\n",
       "education               0.043953\n",
       "gender                  0.000000\n",
       "recruitment_channel     0.000000\n",
       "no_of_trainings         0.000000\n",
       "age                     0.000000\n",
       "previous_year_rating    0.075244\n",
       "length_of_service       0.000000\n",
       "KPIs_met >80%           0.000000\n",
       "awards_won?             0.000000\n",
       "avg_training_score      0.000000\n",
       "is_promoted             0.000000\n",
       "dtype: float64"
      ]
     },
     "execution_count": 9,
     "metadata": {},
     "output_type": "execute_result"
    }
   ],
   "source": [
    "train.isnull().mean()"
   ]
  },
  {
   "cell_type": "code",
   "execution_count": 10,
   "metadata": {},
   "outputs": [
    {
     "data": {
      "text/plain": [
       "employee_id             0.000000\n",
       "department              0.000000\n",
       "region                  0.000000\n",
       "education               0.044019\n",
       "gender                  0.000000\n",
       "recruitment_channel     0.000000\n",
       "no_of_trainings         0.000000\n",
       "age                     0.000000\n",
       "previous_year_rating    0.077139\n",
       "length_of_service       0.000000\n",
       "KPIs_met >80%           0.000000\n",
       "awards_won?             0.000000\n",
       "avg_training_score      0.000000\n",
       "dtype: float64"
      ]
     },
     "execution_count": 10,
     "metadata": {},
     "output_type": "execute_result"
    }
   ],
   "source": [
    "test.isnull().mean()"
   ]
  },
  {
   "cell_type": "code",
   "execution_count": 11,
   "metadata": {},
   "outputs": [
    {
     "data": {
      "text/plain": [
       "array([\"Master's & above\", \"Bachelor's\", nan, 'Below Secondary'],\n",
       "      dtype=object)"
      ]
     },
     "execution_count": 11,
     "metadata": {},
     "output_type": "execute_result"
    }
   ],
   "source": [
    "train['education'].unique()"
   ]
  },
  {
   "cell_type": "code",
   "execution_count": 12,
   "metadata": {},
   "outputs": [
    {
     "data": {
      "text/plain": [
       "array([\"Bachelor's\", \"Master's & above\", nan, 'Below Secondary'],\n",
       "      dtype=object)"
      ]
     },
     "execution_count": 12,
     "metadata": {},
     "output_type": "execute_result"
    }
   ],
   "source": [
    "test['education'].unique()"
   ]
  },
  {
   "cell_type": "code",
   "execution_count": 13,
   "metadata": {},
   "outputs": [
    {
     "data": {
      "text/plain": [
       "array([ 5.,  3.,  1.,  4., nan,  2.])"
      ]
     },
     "execution_count": 13,
     "metadata": {},
     "output_type": "execute_result"
    }
   ],
   "source": [
    "train['previous_year_rating'].unique()"
   ]
  },
  {
   "cell_type": "code",
   "execution_count": 14,
   "metadata": {},
   "outputs": [
    {
     "data": {
      "text/plain": [
       "array([nan,  3.,  1.,  2.,  4.,  5.])"
      ]
     },
     "execution_count": 14,
     "metadata": {},
     "output_type": "execute_result"
    }
   ],
   "source": [
    "test['previous_year_rating'].unique()"
   ]
  },
  {
   "cell_type": "code",
   "execution_count": 15,
   "metadata": {},
   "outputs": [
    {
     "name": "stdout",
     "output_type": "stream",
     "text": [
      "is_promoted:  0\n",
      "education\n",
      "Bachelor's          33661\n",
      "Below Secondary       738\n",
      "Master's & above    13454\n",
      "Name: education, dtype: int64\n",
      "is_promoted:  1\n",
      "education\n",
      "Bachelor's          3008\n",
      "Below Secondary       67\n",
      "Master's & above    1471\n",
      "Name: education, dtype: int64\n"
     ]
    }
   ],
   "source": [
    "for k,df in train.groupby(['is_promoted']):\n",
    "    print(\"is_promoted: \",k)\n",
    "    print(df.groupby(['education'])['education'].count())"
   ]
  },
  {
   "cell_type": "code",
   "execution_count": 16,
   "metadata": {},
   "outputs": [
    {
     "name": "stdout",
     "output_type": "stream",
     "text": [
      "is_promoted:  0\n",
      "previous_year_rating\n",
      "1.0     6135\n",
      "2.0     4044\n",
      "3.0    17263\n",
      "4.0     9093\n",
      "5.0     9820\n",
      "Name: previous_year_rating, dtype: int64\n",
      "is_promoted:  1\n",
      "previous_year_rating\n",
      "1.0      88\n",
      "2.0     181\n",
      "3.0    1355\n",
      "4.0     784\n",
      "5.0    1921\n",
      "Name: previous_year_rating, dtype: int64\n"
     ]
    }
   ],
   "source": [
    "for k,df in train.groupby(['is_promoted']):\n",
    "    print(\"is_promoted: \",k)\n",
    "    print(df.groupby(['previous_year_rating'])['previous_year_rating'].count())"
   ]
  },
  {
   "cell_type": "code",
   "execution_count": 17,
   "metadata": {},
   "outputs": [],
   "source": [
    "def impute_na(df_train, df_test, variable):\n",
    "    most_frequent_category = df_train.groupby([variable])[variable].count().sort_values(ascending=False).index[0]\n",
    "    df_train[variable].fillna(most_frequent_category, inplace=True)\n",
    "    df_test[variable].fillna(most_frequent_category, inplace=True)"
   ]
  },
  {
   "cell_type": "code",
   "execution_count": 18,
   "metadata": {},
   "outputs": [],
   "source": [
    "impute_na(train, test, 'education')"
   ]
  },
  {
   "cell_type": "code",
   "execution_count": 19,
   "metadata": {},
   "outputs": [],
   "source": [
    "impute_na(train, test, 'previous_year_rating')"
   ]
  },
  {
   "cell_type": "code",
   "execution_count": 20,
   "metadata": {},
   "outputs": [
    {
     "data": {
      "text/plain": [
       "employee_id             0\n",
       "department              0\n",
       "region                  0\n",
       "education               0\n",
       "gender                  0\n",
       "recruitment_channel     0\n",
       "no_of_trainings         0\n",
       "age                     0\n",
       "previous_year_rating    0\n",
       "length_of_service       0\n",
       "KPIs_met >80%           0\n",
       "awards_won?             0\n",
       "avg_training_score      0\n",
       "is_promoted             0\n",
       "dtype: int64"
      ]
     },
     "execution_count": 20,
     "metadata": {},
     "output_type": "execute_result"
    }
   ],
   "source": [
    "train.isnull().sum()"
   ]
  },
  {
   "cell_type": "code",
   "execution_count": 21,
   "metadata": {},
   "outputs": [
    {
     "data": {
      "text/plain": [
       "employee_id             0\n",
       "department              0\n",
       "region                  0\n",
       "education               0\n",
       "gender                  0\n",
       "recruitment_channel     0\n",
       "no_of_trainings         0\n",
       "age                     0\n",
       "previous_year_rating    0\n",
       "length_of_service       0\n",
       "KPIs_met >80%           0\n",
       "awards_won?             0\n",
       "avg_training_score      0\n",
       "dtype: int64"
      ]
     },
     "execution_count": 21,
     "metadata": {},
     "output_type": "execute_result"
    }
   ],
   "source": [
    "test.isnull().sum()"
   ]
  },
  {
   "cell_type": "code",
   "execution_count": 22,
   "metadata": {},
   "outputs": [
    {
     "name": "stdout",
     "output_type": "stream",
     "text": [
      "Unique values in  employee_id  :  54808\n",
      "Unique values in  department  :  9\n",
      "Unique values in  region  :  34\n",
      "Unique values in  education  :  3\n",
      "Unique values in  gender  :  2\n",
      "Unique values in  recruitment_channel  :  3\n",
      "Unique values in  no_of_trainings  :  10\n",
      "Unique values in  age  :  41\n",
      "Unique values in  previous_year_rating  :  5\n",
      "Unique values in  length_of_service  :  35\n",
      "Unique values in  KPIs_met >80%  :  2\n",
      "Unique values in  awards_won?  :  2\n",
      "Unique values in  avg_training_score  :  61\n",
      "Unique values in  is_promoted  :  2\n"
     ]
    }
   ],
   "source": [
    "for col in train.columns:\n",
    "    print(\"Unique values in \",col,\" : \",train[col].nunique()) "
   ]
  },
  {
   "cell_type": "code",
   "execution_count": 23,
   "metadata": {},
   "outputs": [
    {
     "name": "stdout",
     "output_type": "stream",
     "text": [
      "Unique values in  employee_id  :  23490\n",
      "Unique values in  department  :  9\n",
      "Unique values in  region  :  34\n",
      "Unique values in  education  :  3\n",
      "Unique values in  gender  :  2\n",
      "Unique values in  recruitment_channel  :  3\n",
      "Unique values in  no_of_trainings  :  9\n",
      "Unique values in  age  :  41\n",
      "Unique values in  previous_year_rating  :  5\n",
      "Unique values in  length_of_service  :  34\n",
      "Unique values in  KPIs_met >80%  :  2\n",
      "Unique values in  awards_won?  :  2\n",
      "Unique values in  avg_training_score  :  61\n"
     ]
    }
   ],
   "source": [
    "for col in test.columns:\n",
    "    print(\"Unique values in \",col,\" : \",test[col].nunique())"
   ]
  },
  {
   "cell_type": "code",
   "execution_count": 24,
   "metadata": {},
   "outputs": [
    {
     "data": {
      "text/html": [
       "<div>\n",
       "<style scoped>\n",
       "    .dataframe tbody tr th:only-of-type {\n",
       "        vertical-align: middle;\n",
       "    }\n",
       "\n",
       "    .dataframe tbody tr th {\n",
       "        vertical-align: top;\n",
       "    }\n",
       "\n",
       "    .dataframe thead th {\n",
       "        text-align: right;\n",
       "    }\n",
       "</style>\n",
       "<table border=\"1\" class=\"dataframe\">\n",
       "  <thead>\n",
       "    <tr style=\"text-align: right;\">\n",
       "      <th></th>\n",
       "      <th>employee_id</th>\n",
       "      <th>no_of_trainings</th>\n",
       "      <th>age</th>\n",
       "      <th>previous_year_rating</th>\n",
       "      <th>length_of_service</th>\n",
       "      <th>KPIs_met &gt;80%</th>\n",
       "      <th>awards_won?</th>\n",
       "      <th>avg_training_score</th>\n",
       "      <th>is_promoted</th>\n",
       "    </tr>\n",
       "  </thead>\n",
       "  <tbody>\n",
       "    <tr>\n",
       "      <th>count</th>\n",
       "      <td>54808.000000</td>\n",
       "      <td>54808.000000</td>\n",
       "      <td>54808.000000</td>\n",
       "      <td>54808.000000</td>\n",
       "      <td>54808.000000</td>\n",
       "      <td>54808.000000</td>\n",
       "      <td>54808.000000</td>\n",
       "      <td>54808.000000</td>\n",
       "      <td>54808.000000</td>\n",
       "    </tr>\n",
       "    <tr>\n",
       "      <th>mean</th>\n",
       "      <td>39195.830627</td>\n",
       "      <td>1.253011</td>\n",
       "      <td>34.803915</td>\n",
       "      <td>3.304481</td>\n",
       "      <td>5.865512</td>\n",
       "      <td>0.351974</td>\n",
       "      <td>0.023172</td>\n",
       "      <td>63.386750</td>\n",
       "      <td>0.085170</td>\n",
       "    </tr>\n",
       "    <tr>\n",
       "      <th>std</th>\n",
       "      <td>22586.581449</td>\n",
       "      <td>0.609264</td>\n",
       "      <td>7.660169</td>\n",
       "      <td>1.214770</td>\n",
       "      <td>4.265094</td>\n",
       "      <td>0.477590</td>\n",
       "      <td>0.150450</td>\n",
       "      <td>13.371559</td>\n",
       "      <td>0.279137</td>\n",
       "    </tr>\n",
       "    <tr>\n",
       "      <th>min</th>\n",
       "      <td>1.000000</td>\n",
       "      <td>1.000000</td>\n",
       "      <td>20.000000</td>\n",
       "      <td>1.000000</td>\n",
       "      <td>1.000000</td>\n",
       "      <td>0.000000</td>\n",
       "      <td>0.000000</td>\n",
       "      <td>39.000000</td>\n",
       "      <td>0.000000</td>\n",
       "    </tr>\n",
       "    <tr>\n",
       "      <th>25%</th>\n",
       "      <td>19669.750000</td>\n",
       "      <td>1.000000</td>\n",
       "      <td>29.000000</td>\n",
       "      <td>3.000000</td>\n",
       "      <td>3.000000</td>\n",
       "      <td>0.000000</td>\n",
       "      <td>0.000000</td>\n",
       "      <td>51.000000</td>\n",
       "      <td>0.000000</td>\n",
       "    </tr>\n",
       "    <tr>\n",
       "      <th>50%</th>\n",
       "      <td>39225.500000</td>\n",
       "      <td>1.000000</td>\n",
       "      <td>33.000000</td>\n",
       "      <td>3.000000</td>\n",
       "      <td>5.000000</td>\n",
       "      <td>0.000000</td>\n",
       "      <td>0.000000</td>\n",
       "      <td>60.000000</td>\n",
       "      <td>0.000000</td>\n",
       "    </tr>\n",
       "    <tr>\n",
       "      <th>75%</th>\n",
       "      <td>58730.500000</td>\n",
       "      <td>1.000000</td>\n",
       "      <td>39.000000</td>\n",
       "      <td>4.000000</td>\n",
       "      <td>7.000000</td>\n",
       "      <td>1.000000</td>\n",
       "      <td>0.000000</td>\n",
       "      <td>76.000000</td>\n",
       "      <td>0.000000</td>\n",
       "    </tr>\n",
       "    <tr>\n",
       "      <th>max</th>\n",
       "      <td>78298.000000</td>\n",
       "      <td>10.000000</td>\n",
       "      <td>60.000000</td>\n",
       "      <td>5.000000</td>\n",
       "      <td>37.000000</td>\n",
       "      <td>1.000000</td>\n",
       "      <td>1.000000</td>\n",
       "      <td>99.000000</td>\n",
       "      <td>1.000000</td>\n",
       "    </tr>\n",
       "  </tbody>\n",
       "</table>\n",
       "</div>"
      ],
      "text/plain": [
       "        employee_id  no_of_trainings           age  previous_year_rating  \\\n",
       "count  54808.000000     54808.000000  54808.000000          54808.000000   \n",
       "mean   39195.830627         1.253011     34.803915              3.304481   \n",
       "std    22586.581449         0.609264      7.660169              1.214770   \n",
       "min        1.000000         1.000000     20.000000              1.000000   \n",
       "25%    19669.750000         1.000000     29.000000              3.000000   \n",
       "50%    39225.500000         1.000000     33.000000              3.000000   \n",
       "75%    58730.500000         1.000000     39.000000              4.000000   \n",
       "max    78298.000000        10.000000     60.000000              5.000000   \n",
       "\n",
       "       length_of_service  KPIs_met >80%   awards_won?  avg_training_score  \\\n",
       "count       54808.000000   54808.000000  54808.000000        54808.000000   \n",
       "mean            5.865512       0.351974      0.023172           63.386750   \n",
       "std             4.265094       0.477590      0.150450           13.371559   \n",
       "min             1.000000       0.000000      0.000000           39.000000   \n",
       "25%             3.000000       0.000000      0.000000           51.000000   \n",
       "50%             5.000000       0.000000      0.000000           60.000000   \n",
       "75%             7.000000       1.000000      0.000000           76.000000   \n",
       "max            37.000000       1.000000      1.000000           99.000000   \n",
       "\n",
       "        is_promoted  \n",
       "count  54808.000000  \n",
       "mean       0.085170  \n",
       "std        0.279137  \n",
       "min        0.000000  \n",
       "25%        0.000000  \n",
       "50%        0.000000  \n",
       "75%        0.000000  \n",
       "max        1.000000  "
      ]
     },
     "execution_count": 24,
     "metadata": {},
     "output_type": "execute_result"
    }
   ],
   "source": [
    "train.describe()"
   ]
  },
  {
   "cell_type": "code",
   "execution_count": 25,
   "metadata": {},
   "outputs": [
    {
     "data": {
      "text/html": [
       "<div>\n",
       "<style scoped>\n",
       "    .dataframe tbody tr th:only-of-type {\n",
       "        vertical-align: middle;\n",
       "    }\n",
       "\n",
       "    .dataframe tbody tr th {\n",
       "        vertical-align: top;\n",
       "    }\n",
       "\n",
       "    .dataframe thead th {\n",
       "        text-align: right;\n",
       "    }\n",
       "</style>\n",
       "<table border=\"1\" class=\"dataframe\">\n",
       "  <thead>\n",
       "    <tr style=\"text-align: right;\">\n",
       "      <th></th>\n",
       "      <th>employee_id</th>\n",
       "      <th>no_of_trainings</th>\n",
       "      <th>age</th>\n",
       "      <th>previous_year_rating</th>\n",
       "      <th>length_of_service</th>\n",
       "      <th>KPIs_met &gt;80%</th>\n",
       "      <th>awards_won?</th>\n",
       "      <th>avg_training_score</th>\n",
       "    </tr>\n",
       "  </thead>\n",
       "  <tbody>\n",
       "    <tr>\n",
       "      <th>count</th>\n",
       "      <td>23490.000000</td>\n",
       "      <td>23490.000000</td>\n",
       "      <td>23490.000000</td>\n",
       "      <td>23490.000000</td>\n",
       "      <td>23490.000000</td>\n",
       "      <td>23490.000000</td>\n",
       "      <td>23490.000000</td>\n",
       "      <td>23490.000000</td>\n",
       "    </tr>\n",
       "    <tr>\n",
       "      <th>mean</th>\n",
       "      <td>39041.399149</td>\n",
       "      <td>1.254236</td>\n",
       "      <td>34.782929</td>\n",
       "      <td>3.312984</td>\n",
       "      <td>5.810387</td>\n",
       "      <td>0.358834</td>\n",
       "      <td>0.022776</td>\n",
       "      <td>63.263133</td>\n",
       "    </tr>\n",
       "    <tr>\n",
       "      <th>std</th>\n",
       "      <td>22640.809201</td>\n",
       "      <td>0.600910</td>\n",
       "      <td>7.679492</td>\n",
       "      <td>1.216959</td>\n",
       "      <td>4.207917</td>\n",
       "      <td>0.479668</td>\n",
       "      <td>0.149191</td>\n",
       "      <td>13.411750</td>\n",
       "    </tr>\n",
       "    <tr>\n",
       "      <th>min</th>\n",
       "      <td>3.000000</td>\n",
       "      <td>1.000000</td>\n",
       "      <td>20.000000</td>\n",
       "      <td>1.000000</td>\n",
       "      <td>1.000000</td>\n",
       "      <td>0.000000</td>\n",
       "      <td>0.000000</td>\n",
       "      <td>39.000000</td>\n",
       "    </tr>\n",
       "    <tr>\n",
       "      <th>25%</th>\n",
       "      <td>19370.250000</td>\n",
       "      <td>1.000000</td>\n",
       "      <td>29.000000</td>\n",
       "      <td>3.000000</td>\n",
       "      <td>3.000000</td>\n",
       "      <td>0.000000</td>\n",
       "      <td>0.000000</td>\n",
       "      <td>51.000000</td>\n",
       "    </tr>\n",
       "    <tr>\n",
       "      <th>50%</th>\n",
       "      <td>38963.500000</td>\n",
       "      <td>1.000000</td>\n",
       "      <td>33.000000</td>\n",
       "      <td>3.000000</td>\n",
       "      <td>5.000000</td>\n",
       "      <td>0.000000</td>\n",
       "      <td>0.000000</td>\n",
       "      <td>60.000000</td>\n",
       "    </tr>\n",
       "    <tr>\n",
       "      <th>75%</th>\n",
       "      <td>58690.000000</td>\n",
       "      <td>1.000000</td>\n",
       "      <td>39.000000</td>\n",
       "      <td>4.000000</td>\n",
       "      <td>7.000000</td>\n",
       "      <td>1.000000</td>\n",
       "      <td>0.000000</td>\n",
       "      <td>76.000000</td>\n",
       "    </tr>\n",
       "    <tr>\n",
       "      <th>max</th>\n",
       "      <td>78295.000000</td>\n",
       "      <td>9.000000</td>\n",
       "      <td>60.000000</td>\n",
       "      <td>5.000000</td>\n",
       "      <td>34.000000</td>\n",
       "      <td>1.000000</td>\n",
       "      <td>1.000000</td>\n",
       "      <td>99.000000</td>\n",
       "    </tr>\n",
       "  </tbody>\n",
       "</table>\n",
       "</div>"
      ],
      "text/plain": [
       "        employee_id  no_of_trainings           age  previous_year_rating  \\\n",
       "count  23490.000000     23490.000000  23490.000000          23490.000000   \n",
       "mean   39041.399149         1.254236     34.782929              3.312984   \n",
       "std    22640.809201         0.600910      7.679492              1.216959   \n",
       "min        3.000000         1.000000     20.000000              1.000000   \n",
       "25%    19370.250000         1.000000     29.000000              3.000000   \n",
       "50%    38963.500000         1.000000     33.000000              3.000000   \n",
       "75%    58690.000000         1.000000     39.000000              4.000000   \n",
       "max    78295.000000         9.000000     60.000000              5.000000   \n",
       "\n",
       "       length_of_service  KPIs_met >80%   awards_won?  avg_training_score  \n",
       "count       23490.000000   23490.000000  23490.000000        23490.000000  \n",
       "mean            5.810387       0.358834      0.022776           63.263133  \n",
       "std             4.207917       0.479668      0.149191           13.411750  \n",
       "min             1.000000       0.000000      0.000000           39.000000  \n",
       "25%             3.000000       0.000000      0.000000           51.000000  \n",
       "50%             5.000000       0.000000      0.000000           60.000000  \n",
       "75%             7.000000       1.000000      0.000000           76.000000  \n",
       "max            34.000000       1.000000      1.000000           99.000000  "
      ]
     },
     "execution_count": 25,
     "metadata": {},
     "output_type": "execute_result"
    }
   ],
   "source": [
    "test.describe()"
   ]
  },
  {
   "cell_type": "code",
   "execution_count": 26,
   "metadata": {},
   "outputs": [],
   "source": [
    "train_df = train.drop(['employee_id'], axis=1)"
   ]
  },
  {
   "cell_type": "code",
   "execution_count": 27,
   "metadata": {},
   "outputs": [],
   "source": [
    "test_df = test.drop(['employee_id'], axis=1)"
   ]
  },
  {
   "cell_type": "code",
   "execution_count": 28,
   "metadata": {},
   "outputs": [],
   "source": [
    "num_vars = ['age','length_of_service','avg_training_score']"
   ]
  },
  {
   "cell_type": "code",
   "execution_count": 29,
   "metadata": {},
   "outputs": [],
   "source": [
    "cat_vars = [col for col in test_df.columns if col not in num_vars]"
   ]
  },
  {
   "cell_type": "code",
   "execution_count": 30,
   "metadata": {},
   "outputs": [],
   "source": [
    "def cat_enc(df_train,df_test,variable,target):\n",
    "    \n",
    "    prob_df = df_train.groupby([variable])[target].mean()\n",
    "    prob_df = pd.DataFrame(prob_df)\n",
    "    prob_df['Not_' + target] = 1-prob_df[target]\n",
    "    \n",
    "    prob_df.loc[prob_df[target] == 0, target] = 0.00001\n",
    "    prob_df.loc[prob_df['Not_' + target] == 0, 'Not_' + target] = 0.00001\n",
    "    \n",
    "    prob_df['WoE'] = np.log(prob_df[target]/prob_df['Not_' + target])\n",
    "    \n",
    "    woe_labels = prob_df['WoE'].to_dict()\n",
    "    \n",
    "    df_train[variable] = df_train[variable].map(woe_labels)\n",
    "    df_test[variable] = df_test[variable].map(woe_labels)"
   ]
  },
  {
   "cell_type": "code",
   "execution_count": 31,
   "metadata": {},
   "outputs": [],
   "source": [
    "for col in cat_vars:\n",
    "    cat_enc(train_df,test_df,col,'is_promoted')"
   ]
  },
  {
   "cell_type": "code",
   "execution_count": 32,
   "metadata": {},
   "outputs": [
    {
     "data": {
      "text/html": [
       "<div>\n",
       "<style scoped>\n",
       "    .dataframe tbody tr th:only-of-type {\n",
       "        vertical-align: middle;\n",
       "    }\n",
       "\n",
       "    .dataframe tbody tr th {\n",
       "        vertical-align: top;\n",
       "    }\n",
       "\n",
       "    .dataframe thead th {\n",
       "        text-align: right;\n",
       "    }\n",
       "</style>\n",
       "<table border=\"1\" class=\"dataframe\">\n",
       "  <thead>\n",
       "    <tr style=\"text-align: right;\">\n",
       "      <th></th>\n",
       "      <th>department</th>\n",
       "      <th>region</th>\n",
       "      <th>education</th>\n",
       "      <th>gender</th>\n",
       "      <th>recruitment_channel</th>\n",
       "      <th>no_of_trainings</th>\n",
       "      <th>age</th>\n",
       "      <th>previous_year_rating</th>\n",
       "      <th>length_of_service</th>\n",
       "      <th>KPIs_met &gt;80%</th>\n",
       "      <th>awards_won?</th>\n",
       "      <th>avg_training_score</th>\n",
       "      <th>is_promoted</th>\n",
       "    </tr>\n",
       "  </thead>\n",
       "  <tbody>\n",
       "    <tr>\n",
       "      <th>0</th>\n",
       "      <td>-2.555904</td>\n",
       "      <td>-2.126523</td>\n",
       "      <td>-2.213334</td>\n",
       "      <td>-2.314444</td>\n",
       "      <td>-2.376107</td>\n",
       "      <td>-2.336974</td>\n",
       "      <td>35</td>\n",
       "      <td>-1.631575</td>\n",
       "      <td>8</td>\n",
       "      <td>-1.592059</td>\n",
       "      <td>-2.487358</td>\n",
       "      <td>49</td>\n",
       "      <td>0</td>\n",
       "    </tr>\n",
       "    <tr>\n",
       "      <th>1</th>\n",
       "      <td>-2.311829</td>\n",
       "      <td>-2.048659</td>\n",
       "      <td>-2.441040</td>\n",
       "      <td>-2.400278</td>\n",
       "      <td>-2.389825</td>\n",
       "      <td>-2.336974</td>\n",
       "      <td>30</td>\n",
       "      <td>-1.631575</td>\n",
       "      <td>4</td>\n",
       "      <td>-3.188871</td>\n",
       "      <td>-2.487358</td>\n",
       "      <td>60</td>\n",
       "      <td>0</td>\n",
       "    </tr>\n",
       "    <tr>\n",
       "      <th>2</th>\n",
       "      <td>-2.555904</td>\n",
       "      <td>-2.740231</td>\n",
       "      <td>-2.441040</td>\n",
       "      <td>-2.400278</td>\n",
       "      <td>-2.376107</td>\n",
       "      <td>-2.336974</td>\n",
       "      <td>34</td>\n",
       "      <td>-2.519713</td>\n",
       "      <td>7</td>\n",
       "      <td>-3.188871</td>\n",
       "      <td>-2.487358</td>\n",
       "      <td>50</td>\n",
       "      <td>0</td>\n",
       "    </tr>\n",
       "    <tr>\n",
       "      <th>3</th>\n",
       "      <td>-2.555904</td>\n",
       "      <td>-2.025070</td>\n",
       "      <td>-2.441040</td>\n",
       "      <td>-2.400278</td>\n",
       "      <td>-2.389825</td>\n",
       "      <td>-2.501571</td>\n",
       "      <td>39</td>\n",
       "      <td>-4.244429</td>\n",
       "      <td>10</td>\n",
       "      <td>-3.188871</td>\n",
       "      <td>-2.487358</td>\n",
       "      <td>50</td>\n",
       "      <td>0</td>\n",
       "    </tr>\n",
       "    <tr>\n",
       "      <th>4</th>\n",
       "      <td>-2.115565</td>\n",
       "      <td>-2.694911</td>\n",
       "      <td>-2.441040</td>\n",
       "      <td>-2.400278</td>\n",
       "      <td>-2.389825</td>\n",
       "      <td>-2.336974</td>\n",
       "      <td>45</td>\n",
       "      <td>-2.519713</td>\n",
       "      <td>2</td>\n",
       "      <td>-3.188871</td>\n",
       "      <td>-2.487358</td>\n",
       "      <td>73</td>\n",
       "      <td>0</td>\n",
       "    </tr>\n",
       "  </tbody>\n",
       "</table>\n",
       "</div>"
      ],
      "text/plain": [
       "   department    region  education    gender  recruitment_channel  \\\n",
       "0   -2.555904 -2.126523  -2.213334 -2.314444            -2.376107   \n",
       "1   -2.311829 -2.048659  -2.441040 -2.400278            -2.389825   \n",
       "2   -2.555904 -2.740231  -2.441040 -2.400278            -2.376107   \n",
       "3   -2.555904 -2.025070  -2.441040 -2.400278            -2.389825   \n",
       "4   -2.115565 -2.694911  -2.441040 -2.400278            -2.389825   \n",
       "\n",
       "   no_of_trainings  age  previous_year_rating  length_of_service  \\\n",
       "0        -2.336974   35             -1.631575                  8   \n",
       "1        -2.336974   30             -1.631575                  4   \n",
       "2        -2.336974   34             -2.519713                  7   \n",
       "3        -2.501571   39             -4.244429                 10   \n",
       "4        -2.336974   45             -2.519713                  2   \n",
       "\n",
       "   KPIs_met >80%  awards_won?  avg_training_score  is_promoted  \n",
       "0      -1.592059    -2.487358                  49            0  \n",
       "1      -3.188871    -2.487358                  60            0  \n",
       "2      -3.188871    -2.487358                  50            0  \n",
       "3      -3.188871    -2.487358                  50            0  \n",
       "4      -3.188871    -2.487358                  73            0  "
      ]
     },
     "execution_count": 32,
     "metadata": {},
     "output_type": "execute_result"
    }
   ],
   "source": [
    "train_df.head()"
   ]
  },
  {
   "cell_type": "code",
   "execution_count": 33,
   "metadata": {},
   "outputs": [],
   "source": [
    "X = train_df.drop(['is_promoted'], axis=1).values\n",
    "y = train_df['is_promoted'].values"
   ]
  },
  {
   "cell_type": "code",
   "execution_count": 34,
   "metadata": {},
   "outputs": [],
   "source": [
    "sm = SMOTE(random_state=101)\n",
    "X_res, y_res = sm.fit_sample(X, y.ravel())"
   ]
  },
  {
   "cell_type": "code",
   "execution_count": 35,
   "metadata": {},
   "outputs": [],
   "source": [
    "X_train, X_test, y_train, y_test = train_test_split(X_res, y_res, \n",
    "                                                    test_size=0.3, \n",
    "                                                    random_state=101)"
   ]
  },
  {
   "cell_type": "code",
   "execution_count": 36,
   "metadata": {},
   "outputs": [
    {
     "name": "stderr",
     "output_type": "stream",
     "text": [
      "Using TensorFlow backend.\n"
     ]
    }
   ],
   "source": [
    "# Importing the Keras libraries and packages\n",
    "import keras\n",
    "from keras.utils import plot_model\n",
    "from keras.models import Model,Sequential,load_model\n",
    "from keras.layers import Input, Flatten, Dense, Dropout\n",
    "from keras.layers.merge import concatenate\n",
    "from keras import backend as K\n",
    "from keras.callbacks import ModelCheckpoint"
   ]
  },
  {
   "cell_type": "code",
   "execution_count": 37,
   "metadata": {},
   "outputs": [],
   "source": [
    "def f1(y_true, y_pred):\n",
    "    def recall(y_true, y_pred):\n",
    "        \"\"\"Recall metric.\n",
    "\n",
    "        Only computes a batch-wise average of recall.\n",
    "\n",
    "        Computes the recall, a metric for multi-label classification of\n",
    "        how many relevant items are selected.\n",
    "        \"\"\"\n",
    "        true_positives = K.sum(K.round(K.clip(y_true * y_pred, 0, 1)))\n",
    "        possible_positives = K.sum(K.round(K.clip(y_true, 0, 1)))\n",
    "        recall = true_positives / (possible_positives + K.epsilon())\n",
    "        return recall\n",
    "\n",
    "    def precision(y_true, y_pred):\n",
    "        \"\"\"Precision metric.\n",
    "\n",
    "        Only computes a batch-wise average of precision.\n",
    "\n",
    "        Computes the precision, a metric for multi-label classification of\n",
    "        how many selected items are relevant.\n",
    "        \"\"\"\n",
    "        true_positives = K.sum(K.round(K.clip(y_true * y_pred, 0, 1)))\n",
    "        predicted_positives = K.sum(K.round(K.clip(y_pred, 0, 1)))\n",
    "        precision = true_positives / (predicted_positives + K.epsilon())\n",
    "        return precision\n",
    "    precision = precision(y_true, y_pred)\n",
    "    recall = recall(y_true, y_pred)\n",
    "    return 2*((precision*recall)/(precision+recall+K.epsilon()))"
   ]
  },
  {
   "cell_type": "code",
   "execution_count": 38,
   "metadata": {},
   "outputs": [],
   "source": [
    "import tensorflow as tf\n",
    "from sklearn.metrics import roc_auc_score\n",
    "\n",
    "def auroc(y_true, y_pred):\n",
    "    return tf.py_func(roc_auc_score, (y_true, y_pred), tf.double)"
   ]
  },
  {
   "cell_type": "code",
   "execution_count": 39,
   "metadata": {},
   "outputs": [],
   "source": [
    "input_shape = X_train.shape[1]\n"
   ]
  },
  {
   "cell_type": "code",
   "execution_count": 40,
   "metadata": {},
   "outputs": [
    {
     "name": "stdout",
     "output_type": "stream",
     "text": [
      "WARNING:tensorflow:From C:\\Users\\lenovo\\Anaconda3\\envs\\deeplearning\\lib\\site-packages\\tensorflow\\python\\framework\\op_def_library.py:263: colocate_with (from tensorflow.python.framework.ops) is deprecated and will be removed in a future version.\n",
      "Instructions for updating:\n",
      "Colocations handled automatically by placer.\n",
      "WARNING:tensorflow:From C:\\Users\\lenovo\\Anaconda3\\envs\\deeplearning\\lib\\site-packages\\keras\\backend\\tensorflow_backend.py:3445: calling dropout (from tensorflow.python.ops.nn_ops) with keep_prob is deprecated and will be removed in a future version.\n",
      "Instructions for updating:\n",
      "Please use `rate` instead of `keep_prob`. Rate should be set to `rate = 1 - keep_prob`.\n",
      "WARNING:tensorflow:From <ipython-input-38-4a25250c5bd7>:5: py_func (from tensorflow.python.ops.script_ops) is deprecated and will be removed in a future version.\n",
      "Instructions for updating:\n",
      "tf.py_func is deprecated in TF V2. Instead, use\n",
      "    tf.py_function, which takes a python function which manipulates tf eager\n",
      "    tensors instead of numpy arrays. It's easy to convert a tf eager tensor to\n",
      "    an ndarray (just call tensor.numpy()) but having access to eager tensors\n",
      "    means `tf.py_function`s can use accelerators such as GPUs as well as\n",
      "    being differentiable using a gradient tape.\n",
      "    \n",
      "_________________________________________________________________\n",
      "Layer (type)                 Output Shape              Param #   \n",
      "=================================================================\n",
      "input_1 (InputLayer)         (None, 12)                0         \n",
      "_________________________________________________________________\n",
      "dense_1 (Dense)              (None, 12)                156       \n",
      "_________________________________________________________________\n",
      "dense_2 (Dense)              (None, 6)                 78        \n",
      "_________________________________________________________________\n",
      "dropout_1 (Dropout)          (None, 6)                 0         \n",
      "_________________________________________________________________\n",
      "dense_3 (Dense)              (None, 1)                 7         \n",
      "=================================================================\n",
      "Total params: 241\n",
      "Trainable params: 241\n",
      "Non-trainable params: 0\n",
      "_________________________________________________________________\n",
      "None\n"
     ]
    }
   ],
   "source": [
    "input_layer = Input(shape=(input_shape,))\n",
    "\n",
    "hidden1 = Dense(units = X_train.shape[1],kernel_initializer = 'uniform',\n",
    "                activation = 'relu')(input_layer)\n",
    "hidden2 = Dense(units = 6,kernel_initializer = 'uniform',\n",
    "                activation = 'relu')(hidden1)\n",
    "dropout = Dropout(rate=0.2)(hidden2)\n",
    "output_layer = Dense(units = 1,kernel_initializer = 'uniform',\n",
    "                activation = 'sigmoid')(dropout)\n",
    "\n",
    "model = Model(inputs=input_layer, outputs=output_layer)\n",
    "\n",
    "# Compiling the ANN\n",
    "model.compile(optimizer = 'adamax', \n",
    "              loss = 'binary_crossentropy', \n",
    "              metrics = [auroc])\n",
    "\n",
    "# summarize layers\n",
    "print(model.summary())"
   ]
  },
  {
   "cell_type": "code",
   "execution_count": 41,
   "metadata": {},
   "outputs": [],
   "source": [
    "# checkpoint\n",
    "filepath=\"Best_Model.h5\"\n",
    "checkpoint = ModelCheckpoint(filepath, monitor='val_auroc', verbose=1, \n",
    "                             save_best_only=True, mode='max')\n",
    "callbacks_list = [checkpoint]"
   ]
  },
  {
   "cell_type": "code",
   "execution_count": 42,
   "metadata": {},
   "outputs": [
    {
     "name": "stdout",
     "output_type": "stream",
     "text": [
      "WARNING:tensorflow:From C:\\Users\\lenovo\\Anaconda3\\envs\\deeplearning\\lib\\site-packages\\tensorflow\\python\\ops\\math_ops.py:3066: to_int32 (from tensorflow.python.ops.math_ops) is deprecated and will be removed in a future version.\n",
      "Instructions for updating:\n",
      "Use tf.cast instead.\n",
      "Train on 70196 samples, validate on 30084 samples\n",
      "Epoch 1/20\n",
      " - 24s - loss: 0.5951 - auroc: 0.7409 - val_loss: 0.5146 - val_auroc: 0.7933\n",
      "\n",
      "Epoch 00001: val_auroc improved from -inf to 0.79330, saving model to Best_Model.h5\n",
      "Epoch 2/20\n",
      " - 20s - loss: 0.5135 - auroc: 0.7903 - val_loss: 0.5053 - val_auroc: 0.7968\n",
      "\n",
      "Epoch 00002: val_auroc improved from 0.79330 to 0.79680, saving model to Best_Model.h5\n",
      "Epoch 3/20\n",
      " - 20s - loss: 0.5049 - auroc: 0.7927 - val_loss: 0.4929 - val_auroc: 0.7993\n",
      "\n",
      "Epoch 00003: val_auroc improved from 0.79680 to 0.79927, saving model to Best_Model.h5\n",
      "Epoch 4/20\n",
      " - 25s - loss: 0.4975 - auroc: 0.7958 - val_loss: 0.4842 - val_auroc: 0.8014\n",
      "\n",
      "Epoch 00004: val_auroc improved from 0.79927 to 0.80142, saving model to Best_Model.h5\n",
      "Epoch 5/20\n",
      " - 23s - loss: 0.4953 - auroc: 0.7970 - val_loss: 0.4802 - val_auroc: 0.8018\n",
      "\n",
      "Epoch 00005: val_auroc improved from 0.80142 to 0.80181, saving model to Best_Model.h5\n",
      "Epoch 6/20\n",
      " - 29s - loss: 0.4919 - auroc: 0.7981 - val_loss: 0.4957 - val_auroc: 0.7971\n",
      "\n",
      "Epoch 00006: val_auroc did not improve from 0.80181\n",
      "Epoch 7/20\n",
      " - 31s - loss: 0.4872 - auroc: 0.8116 - val_loss: 0.4735 - val_auroc: 0.8214\n",
      "\n",
      "Epoch 00007: val_auroc improved from 0.80181 to 0.82142, saving model to Best_Model.h5\n",
      "Epoch 8/20\n",
      " - 18s - loss: 0.4823 - auroc: 0.8157 - val_loss: 0.4700 - val_auroc: 0.8287\n",
      "\n",
      "Epoch 00008: val_auroc improved from 0.82142 to 0.82870, saving model to Best_Model.h5\n",
      "Epoch 9/20\n",
      " - 34s - loss: 0.4808 - auroc: 0.8157 - val_loss: 0.4763 - val_auroc: 0.8300\n",
      "\n",
      "Epoch 00009: val_auroc improved from 0.82870 to 0.83002, saving model to Best_Model.h5\n",
      "Epoch 10/20\n",
      " - 25s - loss: 0.4768 - auroc: 0.8187 - val_loss: 0.4640 - val_auroc: 0.8332\n",
      "\n",
      "Epoch 00010: val_auroc improved from 0.83002 to 0.83323, saving model to Best_Model.h5\n",
      "Epoch 11/20\n",
      " - 19s - loss: 0.4739 - auroc: 0.8231 - val_loss: 0.4666 - val_auroc: 0.8371\n",
      "\n",
      "Epoch 00011: val_auroc improved from 0.83323 to 0.83712, saving model to Best_Model.h5\n",
      "Epoch 12/20\n",
      " - 21s - loss: 0.4725 - auroc: 0.8240 - val_loss: 0.4588 - val_auroc: 0.8394\n",
      "\n",
      "Epoch 00012: val_auroc improved from 0.83712 to 0.83940, saving model to Best_Model.h5\n",
      "Epoch 13/20\n",
      " - 20s - loss: 0.4702 - auroc: 0.8240 - val_loss: 0.4620 - val_auroc: 0.8371\n",
      "\n",
      "Epoch 00013: val_auroc did not improve from 0.83940\n",
      "Epoch 14/20\n",
      " - 16s - loss: 0.4672 - auroc: 0.8263 - val_loss: 0.4506 - val_auroc: 0.8423\n",
      "\n",
      "Epoch 00014: val_auroc improved from 0.83940 to 0.84231, saving model to Best_Model.h5\n",
      "Epoch 15/20\n",
      " - 17s - loss: 0.4652 - auroc: 0.8279 - val_loss: 0.4820 - val_auroc: 0.8368\n",
      "\n",
      "Epoch 00015: val_auroc did not improve from 0.84231\n",
      "Epoch 16/20\n",
      " - 17s - loss: 0.4623 - auroc: 0.8304 - val_loss: 0.4467 - val_auroc: 0.8465\n",
      "\n",
      "Epoch 00016: val_auroc improved from 0.84231 to 0.84651, saving model to Best_Model.h5\n",
      "Epoch 17/20\n",
      " - 23s - loss: 0.4603 - auroc: 0.8307 - val_loss: 0.4449 - val_auroc: 0.8478\n",
      "\n",
      "Epoch 00017: val_auroc improved from 0.84651 to 0.84777, saving model to Best_Model.h5\n",
      "Epoch 18/20\n",
      " - 19s - loss: 0.4595 - auroc: 0.8304 - val_loss: 0.4486 - val_auroc: 0.8461\n",
      "\n",
      "Epoch 00018: val_auroc did not improve from 0.84777\n",
      "Epoch 19/20\n",
      " - 12s - loss: 0.4596 - auroc: 0.8322 - val_loss: 0.4517 - val_auroc: 0.8516\n",
      "\n",
      "Epoch 00019: val_auroc improved from 0.84777 to 0.85160, saving model to Best_Model.h5\n",
      "Epoch 20/20\n",
      " - 18s - loss: 0.4536 - auroc: 0.8341 - val_loss: 0.4413 - val_auroc: 0.8475\n",
      "\n",
      "Epoch 00020: val_auroc did not improve from 0.85160\n"
     ]
    },
    {
     "data": {
      "text/plain": [
       "<keras.callbacks.History at 0x15853d28748>"
      ]
     },
     "execution_count": 42,
     "metadata": {},
     "output_type": "execute_result"
    }
   ],
   "source": [
    "model.fit(X_train, \n",
    "          y_train,\n",
    "          batch_size = 32,\n",
    "          epochs = 20,\n",
    "          validation_data=(X_test, y_test),\n",
    "          callbacks=callbacks_list, \n",
    "          verbose=2)"
   ]
  },
  {
   "cell_type": "code",
   "execution_count": 43,
   "metadata": {},
   "outputs": [],
   "source": [
    "input_layer = Input(shape=(input_shape,))\n",
    "\n",
    "hidden1 = Dense(units = X_train.shape[1],kernel_initializer = 'uniform',\n",
    "                activation = 'relu')(input_layer)\n",
    "hidden2 = Dense(units = 6,kernel_initializer = 'uniform',\n",
    "                activation = 'relu')(hidden1)\n",
    "dropout = Dropout(rate=0.2)(hidden2)\n",
    "output_layer = Dense(units = 1,kernel_initializer = 'uniform',\n",
    "                activation = 'sigmoid')(dropout)\n",
    "\n",
    "model = Model(inputs=input_layer, outputs=output_layer)"
   ]
  },
  {
   "cell_type": "code",
   "execution_count": 44,
   "metadata": {},
   "outputs": [],
   "source": [
    "model.load_weights('Best_Model.h5')"
   ]
  },
  {
   "cell_type": "code",
   "execution_count": 45,
   "metadata": {},
   "outputs": [
    {
     "data": {
      "text/html": [
       "<div>\n",
       "<style scoped>\n",
       "    .dataframe tbody tr th:only-of-type {\n",
       "        vertical-align: middle;\n",
       "    }\n",
       "\n",
       "    .dataframe tbody tr th {\n",
       "        vertical-align: top;\n",
       "    }\n",
       "\n",
       "    .dataframe thead th {\n",
       "        text-align: right;\n",
       "    }\n",
       "</style>\n",
       "<table border=\"1\" class=\"dataframe\">\n",
       "  <thead>\n",
       "    <tr style=\"text-align: right;\">\n",
       "      <th></th>\n",
       "      <th>department</th>\n",
       "      <th>region</th>\n",
       "      <th>education</th>\n",
       "      <th>gender</th>\n",
       "      <th>recruitment_channel</th>\n",
       "      <th>no_of_trainings</th>\n",
       "      <th>age</th>\n",
       "      <th>previous_year_rating</th>\n",
       "      <th>length_of_service</th>\n",
       "      <th>KPIs_met &gt;80%</th>\n",
       "      <th>awards_won?</th>\n",
       "      <th>avg_training_score</th>\n",
       "    </tr>\n",
       "  </thead>\n",
       "  <tbody>\n",
       "    <tr>\n",
       "      <th>0</th>\n",
       "      <td>-2.115565</td>\n",
       "      <td>-2.694911</td>\n",
       "      <td>-2.44104</td>\n",
       "      <td>-2.400278</td>\n",
       "      <td>-2.376107</td>\n",
       "      <td>-2.336974</td>\n",
       "      <td>24</td>\n",
       "      <td>-2.519713</td>\n",
       "      <td>1</td>\n",
       "      <td>-1.592059</td>\n",
       "      <td>-2.487358</td>\n",
       "      <td>77</td>\n",
       "    </tr>\n",
       "    <tr>\n",
       "      <th>1</th>\n",
       "      <td>-2.820153</td>\n",
       "      <td>-1.778803</td>\n",
       "      <td>-2.44104</td>\n",
       "      <td>-2.314444</td>\n",
       "      <td>-2.389825</td>\n",
       "      <td>-2.336974</td>\n",
       "      <td>31</td>\n",
       "      <td>-2.519713</td>\n",
       "      <td>5</td>\n",
       "      <td>-3.188871</td>\n",
       "      <td>-2.487358</td>\n",
       "      <td>51</td>\n",
       "    </tr>\n",
       "    <tr>\n",
       "      <th>2</th>\n",
       "      <td>-2.555904</td>\n",
       "      <td>-2.352617</td>\n",
       "      <td>-2.44104</td>\n",
       "      <td>-2.400278</td>\n",
       "      <td>-2.389825</td>\n",
       "      <td>-2.336974</td>\n",
       "      <td>31</td>\n",
       "      <td>-4.244429</td>\n",
       "      <td>4</td>\n",
       "      <td>-3.188871</td>\n",
       "      <td>-2.487358</td>\n",
       "      <td>47</td>\n",
       "    </tr>\n",
       "    <tr>\n",
       "      <th>3</th>\n",
       "      <td>-2.238047</td>\n",
       "      <td>-2.440631</td>\n",
       "      <td>-2.44104</td>\n",
       "      <td>-2.314444</td>\n",
       "      <td>-2.389825</td>\n",
       "      <td>-2.606931</td>\n",
       "      <td>31</td>\n",
       "      <td>-3.106493</td>\n",
       "      <td>9</td>\n",
       "      <td>-3.188871</td>\n",
       "      <td>-2.487358</td>\n",
       "      <td>65</td>\n",
       "    </tr>\n",
       "    <tr>\n",
       "      <th>4</th>\n",
       "      <td>-2.425747</td>\n",
       "      <td>-3.096314</td>\n",
       "      <td>-2.44104</td>\n",
       "      <td>-2.400278</td>\n",
       "      <td>-2.376107</td>\n",
       "      <td>-2.336974</td>\n",
       "      <td>30</td>\n",
       "      <td>-2.450851</td>\n",
       "      <td>7</td>\n",
       "      <td>-3.188871</td>\n",
       "      <td>-2.487358</td>\n",
       "      <td>61</td>\n",
       "    </tr>\n",
       "  </tbody>\n",
       "</table>\n",
       "</div>"
      ],
      "text/plain": [
       "   department    region  education    gender  recruitment_channel  \\\n",
       "0   -2.115565 -2.694911   -2.44104 -2.400278            -2.376107   \n",
       "1   -2.820153 -1.778803   -2.44104 -2.314444            -2.389825   \n",
       "2   -2.555904 -2.352617   -2.44104 -2.400278            -2.389825   \n",
       "3   -2.238047 -2.440631   -2.44104 -2.314444            -2.389825   \n",
       "4   -2.425747 -3.096314   -2.44104 -2.400278            -2.376107   \n",
       "\n",
       "   no_of_trainings  age  previous_year_rating  length_of_service  \\\n",
       "0        -2.336974   24             -2.519713                  1   \n",
       "1        -2.336974   31             -2.519713                  5   \n",
       "2        -2.336974   31             -4.244429                  4   \n",
       "3        -2.606931   31             -3.106493                  9   \n",
       "4        -2.336974   30             -2.450851                  7   \n",
       "\n",
       "   KPIs_met >80%  awards_won?  avg_training_score  \n",
       "0      -1.592059    -2.487358                  77  \n",
       "1      -3.188871    -2.487358                  51  \n",
       "2      -3.188871    -2.487358                  47  \n",
       "3      -3.188871    -2.487358                  65  \n",
       "4      -3.188871    -2.487358                  61  "
      ]
     },
     "execution_count": 45,
     "metadata": {},
     "output_type": "execute_result"
    }
   ],
   "source": [
    "test_df.head()"
   ]
  },
  {
   "cell_type": "code",
   "execution_count": 51,
   "metadata": {},
   "outputs": [],
   "source": [
    "y_predictions = np.where(model.predict(test_df.values)<0.5,0,1)"
   ]
  },
  {
   "cell_type": "code",
   "execution_count": 52,
   "metadata": {},
   "outputs": [],
   "source": [
    "submission_df = pd.concat([test['employee_id'], \n",
    "                           pd.DataFrame(y_preds, columns=['is_promoted'])],\n",
    "                          axis=1)"
   ]
  },
  {
   "cell_type": "code",
   "execution_count": 53,
   "metadata": {},
   "outputs": [],
   "source": [
    "submission_df.to_csv(r'HR-Analytics submission.csv', index=False)"
   ]
  },
  {
   "cell_type": "code",
   "execution_count": null,
   "metadata": {},
   "outputs": [],
   "source": []
  }
 ],
 "metadata": {
  "kernelspec": {
   "display_name": "Python 3",
   "language": "python",
   "name": "python3"
  },
  "language_info": {
   "codemirror_mode": {
    "name": "ipython",
    "version": 3
   },
   "file_extension": ".py",
   "mimetype": "text/x-python",
   "name": "python",
   "nbconvert_exporter": "python",
   "pygments_lexer": "ipython3",
   "version": "3.6.8"
  }
 },
 "nbformat": 4,
 "nbformat_minor": 2
}
